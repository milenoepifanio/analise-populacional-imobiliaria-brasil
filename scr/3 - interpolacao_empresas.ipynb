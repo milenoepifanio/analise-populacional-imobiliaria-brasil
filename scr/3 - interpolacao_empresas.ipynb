{
 "cells": [
  {
   "cell_type": "code",
   "execution_count": 1,
   "id": "861ec7b0",
   "metadata": {},
   "outputs": [],
   "source": [
    "import pandas as pd\n",
    "import numpy as np\n",
    "import os\n",
    "\n",
    "df = pd.read_csv('../data/0 - empresas_ativas_por_regiao.csv')"
   ]
  },
  {
   "cell_type": "code",
   "execution_count": 4,
   "id": "e4a0dc9c",
   "metadata": {},
   "outputs": [],
   "source": [
    "novos_dados = []\n",
    "\n",
    "# Aplica interpolação para cada região\n",
    "for regiao in df['Região'].unique():\n",
    "    df_regiao = df[df['Região'] == regiao].copy()\n",
    "    \n",
    "    # Ajuste do polinômio grau 2\n",
    "    x = df_regiao['Ano']\n",
    "    y = df_regiao['Empresas_Ativas']\n",
    "    coef = np.polyfit(x, y, 2)\n",
    "    modelo = np.poly1d(coef)\n",
    "\n",
    "    for ano in [2021, 2022]: # Estima os valores para 2021 e 2022\n",
    "        estimativa = int(round(modelo(ano)))\n",
    "        novos_dados.append({'Ano': ano, 'Região': regiao, 'Empresas_Ativas': estimativa})"
   ]
  },
  {
   "cell_type": "code",
   "execution_count": null,
   "id": "8f73bc24",
   "metadata": {},
   "outputs": [],
   "source": [
    "df_estimado = pd.DataFrame(novos_dados) # Cria DataFrame com as novas estimativas\n",
    "\n",
    "df_final = pd.concat([df, df_estimado], ignore_index=True).sort_values(by=['Regiao', 'Ano']) # Junta com o original"
   ]
  },
  {
   "cell_type": "code",
   "execution_count": null,
   "id": "1d1ae02b",
   "metadata": {},
   "outputs": [
    {
     "name": "stdout",
     "output_type": "stream",
     "text": [
      "     Ano Região  Empresas_Ativas\n",
      "48  2013    Sul            32065\n",
      "49  2014    Sul            33853\n",
      "50  2015    Sul            34687\n",
      "51  2016    Sul            33928\n",
      "52  2017    Sul            32038\n",
      "53  2018    Sul            32950\n",
      "54  2019    Sul            34245\n",
      "55  2020    Sul            36698\n",
      "76  2021    Sul            33682\n",
      "77  2022    Sul            32434\n"
     ]
    }
   ],
   "source": [
    "print(df_final.tail(10))"
   ]
  },
  {
   "cell_type": "code",
   "execution_count": null,
   "id": "73ce9949",
   "metadata": {},
   "outputs": [],
   "source": [
    "os.makedirs('data', exist_ok=True) # Cria pasta se necessário\n",
    "df_final.to_csv('../data/1 - empresas_ativas_interpoladas.csv', index=False)"
   ]
  }
 ],
 "metadata": {
  "kernelspec": {
   "display_name": "base",
   "language": "python",
   "name": "python3"
  },
  "language_info": {
   "codemirror_mode": {
    "name": "ipython",
    "version": 3
   },
   "file_extension": ".py",
   "mimetype": "text/x-python",
   "name": "python",
   "nbconvert_exporter": "python",
   "pygments_lexer": "ipython3",
   "version": "3.9.13"
  }
 },
 "nbformat": 4,
 "nbformat_minor": 5
}
