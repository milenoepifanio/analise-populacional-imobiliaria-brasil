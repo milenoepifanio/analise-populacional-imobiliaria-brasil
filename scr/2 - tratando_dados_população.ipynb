{
 "cells": [
  {
   "cell_type": "code",
   "execution_count": 6,
   "id": "aad9cef0",
   "metadata": {},
   "outputs": [],
   "source": [
    "import pandas as pd\n",
    "import os\n",
    "\n",
    "pd.set_option('display.max_columns', None)\n",
    "pd.set_option('display.max_rows', None)"
   ]
  },
  {
   "cell_type": "code",
   "execution_count": null,
   "id": "1442219b",
   "metadata": {},
   "outputs": [],
   "source": [
    "caminho_arquivo = '../data/0 - tabela de idades.xlsx'\n",
    "df = pd.read_excel(caminho_arquivo, sheet_name=\"1) POP_IDADE SIMPLES\", skiprows=5)"
   ]
  },
  {
   "cell_type": "code",
   "execution_count": 8,
   "id": "27a2ee60",
   "metadata": {},
   "outputs": [],
   "source": [
    "df = df[df['SEXO'] == 'Ambos'] # Filtra apenas o sexo \"Ambos\"\n",
    "\n",
    "df = df[df['IDADE'] != 'Total'] # Remove linhas com idade \"Total\"\n",
    "\n",
    "df['IDADE'] = df['IDADE'].astype(int) # Converte idade para inteiro\n",
    "\n",
    "regioes_validas = [\"Norte\", \"Nordeste\", \"Sudeste\", \"Sul\", \"Centro-Oeste\"] # Filtra apenas as 5 grandes regiões\n",
    "\n",
    "df = df[df['LOCAL'].isin(regioes_validas)] "
   ]
  },
  {
   "cell_type": "code",
   "execution_count": 9,
   "id": "52d46b42",
   "metadata": {},
   "outputs": [],
   "source": [
    "value_vars = [col for col in df.columns if isinstance(col, int) or (isinstance(col, str) and col.isnumeric())]\n",
    "\n",
    "df_melt = df.melt(\n",
    "    id_vars=['IDADE', 'SEXO', 'CÓD.', 'SIGLA', 'LOCAL'],\n",
    "    value_vars=value_vars,\n",
    "    var_name='ANO',\n",
    "    value_name='POPULACAO'\n",
    ")\n",
    "\n",
    "df_melt['ANO'] = df_melt['ANO'].astype(int)\n",
    "df_melt['POPULACAO'] = df_melt['POPULACAO'].astype(int)"
   ]
  },
  {
   "cell_type": "code",
   "execution_count": null,
   "id": "649cacd5",
   "metadata": {},
   "outputs": [],
   "source": [
    "df_faixa = df_melt[(df_melt['IDADE'] >= 38) & (df_melt['IDADE'] <= 58)]\n",
    "\n",
    "df_final = df_faixa.groupby(['LOCAL', 'ANO'], as_index=False)['POPULACAO'].sum()\n",
    "\n",
    "df_final = df_final.rename(columns={'LOCAL': 'Regiao'})\n",
    "\n",
    "df_final = df_final[(df_final['ANO'] >= 2007) & (df_final['ANO'] <= 2022)]"
   ]
  },
  {
   "cell_type": "code",
   "execution_count": 11,
   "id": "7ce651a5",
   "metadata": {},
   "outputs": [
    {
     "data": {
      "text/html": [
       "<div>\n",
       "<style scoped>\n",
       "    .dataframe tbody tr th:only-of-type {\n",
       "        vertical-align: middle;\n",
       "    }\n",
       "\n",
       "    .dataframe tbody tr th {\n",
       "        vertical-align: top;\n",
       "    }\n",
       "\n",
       "    .dataframe thead th {\n",
       "        text-align: right;\n",
       "    }\n",
       "</style>\n",
       "<table border=\"1\" class=\"dataframe\">\n",
       "  <thead>\n",
       "    <tr style=\"text-align: right;\">\n",
       "      <th></th>\n",
       "      <th>Regiao</th>\n",
       "      <th>ANO</th>\n",
       "      <th>POPULACAO</th>\n",
       "    </tr>\n",
       "  </thead>\n",
       "  <tbody>\n",
       "    <tr>\n",
       "      <th>7</th>\n",
       "      <td>Centro-Oeste</td>\n",
       "      <td>2007</td>\n",
       "      <td>3159407</td>\n",
       "    </tr>\n",
       "    <tr>\n",
       "      <th>8</th>\n",
       "      <td>Centro-Oeste</td>\n",
       "      <td>2008</td>\n",
       "      <td>3265538</td>\n",
       "    </tr>\n",
       "    <tr>\n",
       "      <th>9</th>\n",
       "      <td>Centro-Oeste</td>\n",
       "      <td>2009</td>\n",
       "      <td>3371072</td>\n",
       "    </tr>\n",
       "    <tr>\n",
       "      <th>10</th>\n",
       "      <td>Centro-Oeste</td>\n",
       "      <td>2010</td>\n",
       "      <td>3474778</td>\n",
       "    </tr>\n",
       "    <tr>\n",
       "      <th>11</th>\n",
       "      <td>Centro-Oeste</td>\n",
       "      <td>2011</td>\n",
       "      <td>3576720</td>\n",
       "    </tr>\n",
       "  </tbody>\n",
       "</table>\n",
       "</div>"
      ],
      "text/plain": [
       "          Regiao   ANO  POPULACAO\n",
       "7   Centro-Oeste  2007    3159407\n",
       "8   Centro-Oeste  2008    3265538\n",
       "9   Centro-Oeste  2009    3371072\n",
       "10  Centro-Oeste  2010    3474778\n",
       "11  Centro-Oeste  2011    3576720"
      ]
     },
     "execution_count": 11,
     "metadata": {},
     "output_type": "execute_result"
    }
   ],
   "source": [
    "df_final.head(5)"
   ]
  },
  {
   "cell_type": "code",
   "execution_count": null,
   "id": "c7a3c25b",
   "metadata": {},
   "outputs": [],
   "source": [
    "# Criacao da pasta de 'data' caso não exista\n",
    "parent_dir = os.path.dirname(os.getcwd())\n",
    "output_dir = os.path.join(parent_dir, 'data')\n",
    "\n",
    "os.makedirs(output_dir, exist_ok=True)\n",
    "\n",
    "# Salvamento do arquivo\n",
    "output_path = os.path.join(output_dir, '1 - populacao_igbe.csv')\n",
    "df_final.to_csv(output_path, index=False)"
   ]
  }
 ],
 "metadata": {
  "kernelspec": {
   "display_name": "base",
   "language": "python",
   "name": "python3"
  },
  "language_info": {
   "codemirror_mode": {
    "name": "ipython",
    "version": 3
   },
   "file_extension": ".py",
   "mimetype": "text/x-python",
   "name": "python",
   "nbconvert_exporter": "python",
   "pygments_lexer": "ipython3",
   "version": "3.9.13"
  }
 },
 "nbformat": 4,
 "nbformat_minor": 5
}
