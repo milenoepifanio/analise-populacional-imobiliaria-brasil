{
 "cells": [
  {
   "cell_type": "code",
   "execution_count": null,
   "id": "57ecb94b",
   "metadata": {},
   "outputs": [
    {
     "name": "stdout",
     "output_type": "stream",
     "text": [
      "    Ano Região  Empresas_Ativas\n",
      "0  2007  Norte             2209\n",
      "1  2008  Norte             2272\n",
      "2  2009  Norte             2574\n",
      "3  2010  Norte             3129\n",
      "4  2011  Norte             3489\n"
     ]
    }
   ],
   "source": [
    "import requests\n",
    "import pandas as pd\n",
    "import time\n",
    "import os\n",
    "\n",
    "regioes = { # Regiões definidas na documentação do IBGE\n",
    "    \"Norte\": 1,\n",
    "    \"Nordeste\": 2,\n",
    "    \"Sudeste\": 3,\n",
    "    \"Sul\": 4,\n",
    "    \"Centro-Oeste\": 5\n",
    "}\n",
    "\n",
    "dados = []\n",
    "tabela = 1757 # Numero da tabela\n",
    "variavel = 410 # Numero de empresas ativas \n",
    "periodo = \"2007-2020\" # Anos que desejamos buscar\n",
    "\n",
    "for regiao_nome, regiao_codigo in regioes.items():\n",
    "    url = f\"https://apisidra.ibge.gov.br/values/t/{tabela}/n2/{regiao_codigo}/p/{periodo}/v/{variavel}?formato=json\" #URL de consulta da API\n",
    "    \n",
    "    try:\n",
    "        response = requests.get(url, timeout=30)\n",
    "        if response.status_code == 200:\n",
    "            data = response.json()[1:]\n",
    "            for row in data:\n",
    "                ano = int(row['D2N'])\n",
    "                valor_str = row['V'].replace(\".\", \"\")\n",
    "                valor = int(valor_str) if valor_str not in ['...', '-', ''] else None\n",
    "                dados.append({'Ano': ano, 'Região': regiao_nome, 'Empresas_Ativas': valor})\n",
    "        else:\n",
    "            print(f\"Erro {response.status_code} na região {regiao_nome}\")\n",
    "    except Exception as e:\n",
    "        print(f\"Erro de conexão na região {regiao_nome}: {e}\")\n",
    "    \n",
    "    time.sleep(0.3)\n",
    "\n",
    "\n",
    "# Criacao da pasta de 'data' caso não exista\n",
    "parent_dir = os.path.dirname(os.getcwd())\n",
    "output_dir = os.path.join(parent_dir, 'data')\n",
    "\n",
    "# Salvamento do arquivo\n",
    "os.makedirs(output_dir, exist_ok=True)\n",
    "\n",
    "df = pd.DataFrame(dados)\n",
    "output_path = os.path.join(output_dir, '0 - empresas_ativas_por_regiao.csv')\n",
    "df.to_csv(output_path, index=False)\n",
    "\n",
    "print(df.head())"
   ]
  }
 ],
 "metadata": {
  "kernelspec": {
   "display_name": "base",
   "language": "python",
   "name": "python3"
  },
  "language_info": {
   "codemirror_mode": {
    "name": "ipython",
    "version": 3
   },
   "file_extension": ".py",
   "mimetype": "text/x-python",
   "name": "python",
   "nbconvert_exporter": "python",
   "pygments_lexer": "ipython3",
   "version": "3.9.13"
  }
 },
 "nbformat": 4,
 "nbformat_minor": 5
}
